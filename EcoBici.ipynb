{
  "nbformat": 4,
  "nbformat_minor": 0,
  "metadata": {
    "colab": {
      "provenance": [],
      "authorship_tag": "ABX9TyP4XGyrilX2cVbPO1tG0zd8",
      "include_colab_link": true
    },
    "kernelspec": {
      "name": "python3",
      "display_name": "Python 3"
    },
    "language_info": {
      "name": "python"
    }
  },
  "cells": [
    {
      "cell_type": "markdown",
      "metadata": {
        "id": "view-in-github",
        "colab_type": "text"
      },
      "source": [
        "<a href=\"https://colab.research.google.com/github/ymlai87416/Android-StepsView/blob/master/EcoBici.ipynb\" target=\"_parent\"><img src=\"https://colab.research.google.com/assets/colab-badge.svg\" alt=\"Open In Colab\"/></a>"
      ]
    },
    {
      "cell_type": "markdown",
      "source": [
        "## Testing for time series machine learning method"
      ],
      "metadata": {
        "id": "a6TH3Bmurpgh"
      }
    },
    {
      "cell_type": "code",
      "execution_count": null,
      "metadata": {
        "id": "Mqs9mXBdrYmY"
      },
      "outputs": [],
      "source": [
        "import datetime\n",
        "import random\n",
        "import numpy as np\n",
        "import pandas as pd\n",
        "import matplotlib.pyplot as plt\n",
        "import matplotlib.dates as mdates\n",
        "import seaborn as sns\n",
        "import statmodels.api as sm\n",
        "\n",
        "from scipy import stats\n",
        "from functions import partial\n",
        "from sklearn.metrics import {\n",
        "    mean_absolute_error,\n",
        "    mean_squared_error,\n",
        "    mean_absolute_percentage_error,\n",
        "}\n",
        "\n",
        "sns.set()\n",
        "\n",
        "%matplotlib inline"
      ]
    }
  ]
}